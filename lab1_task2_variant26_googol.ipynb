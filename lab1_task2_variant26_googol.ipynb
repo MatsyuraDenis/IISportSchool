{
  "nbformat": 4,
  "nbformat_minor": 0,
  "metadata": {
    "colab": {
      "name": "lab1_task2_variant26_googol.ipynb",
      "provenance": [],
      "collapsed_sections": [],
      "authorship_tag": "ABX9TyMRMnV1i5BMBRnt8Lv8STXn",
      "include_colab_link": true
    },
    "kernelspec": {
      "name": "python3",
      "display_name": "Python 3"
    }
  },
  "cells": [
    {
      "cell_type": "markdown",
      "metadata": {
        "id": "view-in-github",
        "colab_type": "text"
      },
      "source": [
        "<a href=\"https://colab.research.google.com/github/MatsyuraDenis/IISportSchool/blob/master/lab1_task2_variant26_googol.ipynb\" target=\"_parent\"><img src=\"https://colab.research.google.com/assets/colab-badge.svg\" alt=\"Open In Colab\"/></a>"
      ]
    },
    {
      "cell_type": "code",
      "metadata": {
        "id": "56nU-ThvUlHL",
        "colab_type": "code",
        "outputId": "7cc8281b-f0da-469e-d251-cce9c725afde",
        "colab": {
          "base_uri": "https://localhost:8080/",
          "height": 204
        }
      },
      "source": [
        "class GoogolSum:\n",
        "\n",
        "    def __init__(self, a, b):\n",
        "        self.__a = a\n",
        "        self.__b = b\n",
        "        self.func = self.sumOfNumbers\n",
        "\n",
        "    @property\n",
        "    def calculatingForNumbersFunc(self):\n",
        "        return self.iterator(self.func, self.__a, self.__b)\n",
        "\n",
        "    @calculatingForNumbersFunc.setter\n",
        "    def calculatingForNumbersFunc(self, func):\n",
        "        self.func = func\n",
        "\n",
        "    @property\n",
        "    def A(self):\n",
        "        return self.__a\n",
        "\n",
        "    @A.setter\n",
        "    def A(self, value):\n",
        "        self.__a = value\n",
        "\n",
        "    @A.deleter\n",
        "    def A(self):\n",
        "        print(\"a is deleted!\")\n",
        "        self.__a = None\n",
        "\n",
        "    @property\n",
        "    def B(self):\n",
        "        return self.__b\n",
        "\n",
        "    @B.setter\n",
        "    def B(self, value):\n",
        "        self.__b = value\n",
        "\n",
        "    @B.deleter\n",
        "    def B(self):\n",
        "        print(\"b is deleted!\")\n",
        "        self.__b = None\n",
        "\n",
        "    def degreeOfNumber(self, number, degree):\n",
        "        return number ** degree\n",
        "\n",
        "    def sumOfNumbers(self, number):\n",
        "        sum = 0\n",
        "        while number >= 1:\n",
        "            sum += number % 10\n",
        "            number = int(number / 10)\n",
        "        return sum\n",
        "\n",
        "    def iterator(self, func, numberMax, degreeMax):\n",
        "        maxSumOfNumbers = 0\n",
        "        aForMax = 0\n",
        "        bForMax = 0\n",
        "        for a in range(1, numberMax + 1):\n",
        "            for b in range(1, degreeMax + 1):\n",
        "                # res = sumOfNumbers(degreeOfNumber(a, b))\n",
        "                resOfDegree = self.degreeOfNumber(a, b)\n",
        "                calculated = func(resOfDegree)\n",
        "                if calculated > maxSumOfNumbers:\n",
        "                    maxSumOfNumbers = calculated\n",
        "                    aForMax = a\n",
        "                    bForMax = b\n",
        "        print(maxSumOfNumbers)\n",
        "        print(aForMax)\n",
        "        print(bForMax)\n",
        "        return maxSumOfNumbers\n",
        "    # end of the class\n",
        "\n",
        "\n",
        "def doubleOfNumbers(number):\n",
        "    double = 1\n",
        "    while number >= 1:\n",
        "        double *= number % 10\n",
        "        number = int(number / 10)\n",
        "    return double\n",
        "\n",
        "\n",
        "def main():\n",
        "    print(\"sum\")\n",
        "    calculator = GoogolSum(100, 100)\n",
        "    calculator.calculatingForNumbersFunc\n",
        "\n",
        "    print(\"\\ndouble\")\n",
        "    del calculator.A\n",
        "    del calculator.B\n",
        "    calculator.A = 10\n",
        "    calculator.B = 10\n",
        "    calculator.calculatingForNumbersFunc = doubleOfNumbers\n",
        "    calculator.calculatingForNumbersFunc\n",
        "\n",
        "\n",
        "main()\n",
        "# sumOfNumbers(degreeOfNumber(2, 4))\n"
      ],
      "execution_count": 0,
      "outputs": [
        {
          "output_type": "stream",
          "text": [
            "sum\n",
            "893\n",
            "95\n",
            "96\n",
            "\n",
            "double\n",
            "a is deleted!\n",
            "b is deleted!\n",
            "322560\n",
            "7\n",
            "10\n"
          ],
          "name": "stdout"
        }
      ]
    }
  ]
}